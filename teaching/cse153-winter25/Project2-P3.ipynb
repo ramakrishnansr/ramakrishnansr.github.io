{
 "cells": [
  {
   "cell_type": "markdown",
   "metadata": {},
   "source": [
    "# Introduction to HTTP scanning\n",
    "\n",
    "## Lab Objective\n",
    "\n",
    "In this lab, we are going to implement a tool to send and receive HTTP requests and responses (similar to curl). The primary target is the IP address of cse153.ramakrishnansr.com and the open port from the TCP Gatekeeper. You will learn how to:\n",
    "\n",
    "- Craft and send HTTP requests\n",
    "- Receive a HTTP response and capture the flag! \n",
    "\n",
    "Note: You will need to run this notebook with root privilege to send and receive packets. \n",
    "\n",
    "## Note for linux and WSL users\n",
    "if you're using SCAPY to send HTTP requests on a linux environment, you may want to force your IPTABLES to stop sending out RSTs for unacknowledged packets, since scapy is running the user space, your kernel has no idea what packets it is receiving and will hence reset it. In linux, you can turn this off temporarily using the following command:\n",
    "sudo iptables -A OUTPUT -p tcp --tcp-flags RST RST -j DROP\n",
    "\n",
    "Remember to delete the rule after testing with sudo iptables -D OUTPUT -p tcp --tcp-flags RST RST -j DROP\n",
    "\n",
    "## Note for MacOS users\n",
    "The same problem as above could exist for MacOS users, if you find in wireshark that your kernel is dropping RST packets, you can take the following steps:\n",
    "1. first, add this line to /etc/pf.conf under sudo: block drop proto tcp flags R/R\n",
    "2. Then load pf rules with: sudo pfctl -f /etc/pf.conf\n",
    "3. Enable the pf rules with: sudo pfctl -e\n",
    "Now your code should work correctly. After testing and executing, you can set your firewall back by removing the line from (1) and executing steps 2-3 again. \n"
   ]
  },
  {
   "cell_type": "code",
   "execution_count": 1,
   "metadata": {},
   "outputs": [
    {
     "name": "stderr",
     "output_type": "stream",
     "text": [
      "WARNING: No IPv4 address found on en5 !\n",
      "WARNING: No IPv4 address found on en1 !\n",
      "WARNING: more No IPv4 address found on en3 !\n"
     ]
    }
   ],
   "source": [
    "from scapy.all import *\n",
    "import random"
   ]
  },
  {
   "cell_type": "markdown",
   "metadata": {},
   "source": [
    "## Set targets"
   ]
  },
  {
   "cell_type": "code",
   "execution_count": 3,
   "metadata": {},
   "outputs": [],
   "source": [
    "# Target IP and port\n",
    "target_ip = \"\" # Replace with the target IP address from the DNS Guardian\n",
    "target_port = 0 # Replace with the target port from the TCP Gatekeeper"
   ]
  },
  {
   "cell_type": "markdown",
   "metadata": {},
   "source": [
    "## Form the starter HTTP request\n",
    "You'll get clues to change this after your first request"
   ]
  },
  {
   "cell_type": "code",
   "execution_count": 4,
   "metadata": {},
   "outputs": [],
   "source": [
    "http_request = (\n",
    "    \"GET / HTTP/1.1\\r\\n\"\n",
    "    f\"Host: {target_ip}:{target_port}\"\n",
    "    \"\\r\\nUser-Agent: Scapy/1.0\\r\\n\"\n",
    "    \"Accept: */*\\r\\n\"\n",
    "    \"Connection: close\\r\\n\"\n",
    "    \"\\r\\n\"\n",
    ")"
   ]
  },
  {
   "cell_type": "markdown",
   "metadata": {},
   "source": [
    "## Send HTTP request and receive response"
   ]
  },
  {
   "cell_type": "code",
   "execution_count": null,
   "metadata": {},
   "outputs": [],
   "source": [
    "source_port = random.randint(1024, 65535)\n",
    "\n",
    "\n",
    "def send_http_request():\n",
    "    try:\n",
    "        # Step 1: Send the HTTP GET request after the handshake is complete\n",
    "        # Send the HTTP request with correct sequence and acknowledgment numbers\n",
    "\n",
    "        # Define a callback function to capture the HTTP response\n",
    "        pass\n",
    "\n",
    "    except Exception as e:\n",
    "        print(f\"Error sending HTTP request: {e}\")\n",
    "\n"
   ]
  },
  {
   "cell_type": "code",
   "execution_count": null,
   "metadata": {},
   "outputs": [],
   "source": [
    "send_http_request()"
   ]
  },
  {
   "cell_type": "markdown",
   "metadata": {},
   "source": [
    "## By this point, you should have already gotten the flag! Simply add it as a markdown box here, or just submit it in a PDF to canvas! Good job in finding the attacker's secret! This will help us apprehend him properly. "
   ]
  },
  {
   "cell_type": "markdown",
   "metadata": {},
   "source": []
  }
 ],
 "metadata": {
  "kernelspec": {
   "display_name": "Python 3",
   "language": "python",
   "name": "python3"
  },
  "language_info": {
   "codemirror_mode": {
    "name": "ipython",
    "version": 3
   },
   "file_extension": ".py",
   "mimetype": "text/x-python",
   "name": "python",
   "nbconvert_exporter": "python",
   "pygments_lexer": "ipython3",
   "version": "3.10.10"
  }
 },
 "nbformat": 4,
 "nbformat_minor": 2
}
