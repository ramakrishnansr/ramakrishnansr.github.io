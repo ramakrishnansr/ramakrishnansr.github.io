{
 "cells": [
  {
   "cell_type": "markdown",
   "metadata": {},
   "source": [
    "# Lab: Build a TOR-Like Client\n",
    "\n",
    "In this lab, you will build a client that mimics the functionality of the TOR network. Your objective is to create a client that forms a circuit between different nodes, encrypts information in multiple layers, and ensures secure and anonymous communication.\n",
    "\n",
    "### Objectives:\n",
    "\n",
    "1. **Forming the Circuit**: The client needs to form the circuit between different nodes. This involves discovering the nodes on the network and obtaining their public keys.\n",
    "   \n",
    "2. **Encrypting Information**: The client will need to encrypt the information multiple times (minimum of 2), with each layer encrypted using the public key of the corresponding node in the circuit.\n",
    "   \n",
    "3. **Sending Data to the First Node**: The client will send the encrypted data to the first node in the circuit.\n",
    "\n",
    "### Be aware of this while building the client. This is how the server should work. (Note: The server is part 3)\n",
    "\n",
    "4. **Node Decryption and Forwarding**: When a node decrypts its layer of encryption, it will reveal:\n",
    "   - The remaining encrypted information, which the node will pass to the next node in the circuit.\n",
    "   - The IP address and port of the next node in the circuit.\n",
    "\n",
    "5. **Handling the Final Node**: If the node is the last in the circuit, upon decryption, the packet will contain the HTTP request to be sent to the target server. The response from the target server should be sent back to the client using the same circuit."
   ]
  },
  {
   "cell_type": "code",
   "execution_count": null,
   "metadata": {},
   "outputs": [],
   "source": [
    "import socket\n",
    "import threading\n",
    "import os\n",
    "import ssl\n",
    "import base64\n",
    "from Crypto.PublicKey import RSA\n",
    "from time import sleep\n",
    "from Crypto.Cipher import PKCS1_OAEP\n",
    "\n",
    "#This can be a mockup\n",
    "def GetNodeInfo(self):\n",
    "    return server_address, server_public_key\n",
    "\n",
    "# Generate RSA key pair. Maybe you'll need this\n",
    "def generate_rsa_key_pair():\n",
    "    # Generate RSA key pair\n",
    "    key = RSA.generate(2048)\n",
    "    private_key = key.export_key()\n",
    "    public_key = key.publickey().export_key()\n",
    "\n",
    "    # Store keys in variables\n",
    "    private_key_var = RSA.import_key(private_key)\n",
    "    public_key_var = RSA.import_key(public_key)\n",
    "    return private_key_var, public_key_var\n",
    "\n",
    "DESTINATION_HOST = \"www.google.com\"\n",
    "def main():\n",
    "    request = f\"GET / HTTP/1.1\\r\\nHost: {DESTINATION_HOST}\\r\\n\\r\\n\".encode()\n",
    "    # Get the nodes info\n",
    "\n",
    "    # Encrypt in multi-layer encryption the http request\n",
    "\n",
    "    # Send the request to the node\n",
    "\n",
    "    # Decrypt the response if you need to (you probably wont, but just in case you use it)\n",
    "\n",
    "    # Print the response"
   ]
  }
 ],
 "metadata": {
  "kernelspec": {
   "display_name": "Python 3",
   "language": "python",
   "name": "python3"
  },
  "language_info": {
   "name": "python",
   "version": "3.12.9"
  }
 },
 "nbformat": 4,
 "nbformat_minor": 2
}
