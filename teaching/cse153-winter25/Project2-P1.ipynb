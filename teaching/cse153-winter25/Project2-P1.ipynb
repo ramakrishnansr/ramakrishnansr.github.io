{
 "cells": [
  {
   "cell_type": "markdown",
   "metadata": {},
   "source": [
    "# Introduction to DNS Scanning\n",
    "\n",
    "## Lab Objective\n",
    "\n",
    "In this lab, we are going to implement a tool to send and receive DNS requests. The primary target is cse153.ramakrishnansr.com. You will learn how to:\n",
    "\n",
    "- Craft and send DNS requests\n",
    "- Receive a DNS response\n",
    "- Send different types of DNS queries.\n",
    "\n",
    "Note: You will need to run this notebook with root privilege to send and receive DNS queries. "
   ]
  },
  {
   "cell_type": "code",
   "execution_count": null,
   "metadata": {},
   "outputs": [],
   "source": [
    "#import all the required fields. \n",
    "from scapy.all import *\n",
    "import threading\n"
   ]
  },
  {
   "cell_type": "markdown",
   "metadata": {},
   "source": [
    "## Set up the targets"
   ]
  },
  {
   "cell_type": "code",
   "execution_count": null,
   "metadata": {},
   "outputs": [],
   "source": [
    "# Target domain and DNS server\n",
    "domain = \"cse153.ramakrishnansr.com\"\n",
    "dns_server = \"1.1.1.1\"  # Use a public DNS server (e.g., Cloudflare DNS) TODO: For the defense experiment, you can change this IP address to point to the VM or laptop running the prometheus instance. "
   ]
  },
  {
   "cell_type": "markdown",
   "metadata": {},
   "source": [
    "## Send and receive DNS queries\n"
   ]
  },
  {
   "cell_type": "code",
   "execution_count": 13,
   "metadata": {},
   "outputs": [],
   "source": [
    "# Function to send DNS queries\n",
    "# Add your code here\n",
    "def send_dns_query():\n",
    "    try:\n",
    "        pass\n",
    "        # Create a DNS query packet\n",
    "        \n",
    "        # Send the query and capture the response\n",
    "        \n",
    "        # Check if we received a response\n",
    "\n",
    "    except Exception as e:\n",
    "        print(f\"Error during query: {e}\")"
   ]
  },
  {
   "cell_type": "code",
   "execution_count": 14,
   "metadata": {},
   "outputs": [],
   "source": [
    "# Threading function to send queries\n",
    "# TODO: For the defense experiment, you can program this to send as many queries in parallel as you want! \n",
    "def send_queries_in_threads():\n",
    "    threads = []\n",
    "    num_threads = 2\n",
    "\n",
    "    # Create a thread for each record type\n",
    "    for t in range(num_threads):\n",
    "        thread = threading.Thread(target=send_dns_query)\n",
    "        threads.append(thread)\n",
    "        thread.start()\n",
    "\n",
    "    # Wait for all threads to complete\n",
    "    for thread in threads:\n",
    "        thread.join()"
   ]
  },
  {
   "cell_type": "code",
   "execution_count": 15,
   "metadata": {},
   "outputs": [],
   "source": [
    "# Call the function to get the output\n",
    "send_queries_in_threads()"
   ]
  },
  {
   "cell_type": "markdown",
   "metadata": {},
   "source": [
    "## Goal: By this point, you should have received both the IP address of cse153.ramakrishnansr.com and the clue of which port range to scan. "
   ]
  }
 ],
 "metadata": {
  "kernelspec": {
   "display_name": "Python 3",
   "language": "python",
   "name": "python3"
  },
  "language_info": {
   "codemirror_mode": {
    "name": "ipython",
    "version": 3
   },
   "file_extension": ".py",
   "mimetype": "text/x-python",
   "name": "python",
   "nbconvert_exporter": "python",
   "pygments_lexer": "ipython3",
   "version": "3.10.10"
  }
 },
 "nbformat": 4,
 "nbformat_minor": 2
}
