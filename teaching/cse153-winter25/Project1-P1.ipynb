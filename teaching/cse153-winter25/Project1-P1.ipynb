{
 "cells": [
  {
   "cell_type": "markdown",
   "metadata": {},
   "source": [
    "# Introduction to ARP Spoofing Lab\n",
    "\n",
    "## What is ARP Spoofing?\n",
    "\n",
    "ARP (Address Resolution Protocol) Spoofing is a type of cyber attack where an attacker sends falsified ARP messages over a local network. This results in the linking of the attacker's MAC address with the IP address of a legitimate computer or server on the network. Once the attacker’s MAC address is associated with an authentic IP address, the attacker can receive any data intended for that IP address. This can lead to various malicious activities such as man-in-the-middle attacks, data interception, and session hijacking.\n",
    "\n",
    "TODO: Who are the actors of an ARP Poisson.\n",
    "## Lab Objective\n",
    "\n",
    "In this lab, we are going to implement a tool to perform ARP Spoofing. This will help you understand the mechanics of the attack and the potential security implications. You will learn how to:\n",
    "\n",
    "- Craft and send ARP packets\n",
    "- Redirect network traffic\n",
    "- Analyze the impact of ARP Spoofing on network communication\n",
    "\n",
    "By the end of this lab, you will have a practical understanding of ARP Spoofing and the importance of securing networks against such attacks."
   ]
  },
  {
   "cell_type": "code",
   "execution_count": null,
   "metadata": {},
   "outputs": [],
   "source": [
    "#!/usr/bin/python\n",
    "\n",
    "# Install scapy package\n",
    "#pip install scapy\n",
    "import scapy.all as scapy\n",
    "\n",
    "#OR install pcap library\n",
    "#pip install pypcap\n",
    "import pcap\n",
    "\n",
    "import netifaces\n",
    "import threading\n",
    "import time\n",
    "\n",
    "hackedMachines = []"
   ]
  },
  {
   "cell_type": "markdown",
   "metadata": {},
   "source": [
    "### Step 1: Setting up everything\n",
    "\n",
    "To begin with, we need to obtain the MAC addresses of our target devices. This can be achieved using a Python library called Scapy. Scapy is a powerful tool for network manipulation and analysis, allowing us to send, sniff, and dissect network packets. By using Scapy, we can scan the network to discover devices and retrieve their MAC addresses, which are essential for further network-related operations.\n",
    "\n",
    "It's also important that you know your IP Address"
   ]
  },
  {
   "cell_type": "code",
   "execution_count": null,
   "metadata": {},
   "outputs": [],
   "source": [
    "\"\"\"\n",
    "Get the MAC address of a device on the local network given its IP address.\n",
    "Args:\n",
    "    ip (str): The IP address of the target device.\n",
    "Returns:\n",
    "    str: The MAC address of the target device.\n",
    "\"\"\"\n",
    "\n",
    "def getMacAddress(ip)->str:\n",
    "    # Your coude here\n",
    "    pass\n",
    "\n",
    "\"\"\"\n",
    "Get the IP address of the current machine from the available network interfaces.\n",
    "Returns:\n",
    "    str: The selected IP address of the current machine.\n",
    "\"\"\"\n",
    "\n",
    "def getOwnIpAddress() -> str:\n",
    "    # Your coude here\n",
    "    # List of available IP addresses and then pick one\n",
    "    pass\n",
    "   "
   ]
  },
  {
   "cell_type": "markdown",
   "metadata": {},
   "source": [
    "### Step 2: Crafting ARP Spoofing Packets\n",
    "\n",
    "In the next step, you will create a function to craft and send ARP spoofing packets. The goal is to trick the target machines into associating the attacker's MAC address with the IP address of the target device (targetIP). This will allow the attacker to intercept the network traffic intended for the target device.\n",
    "\n",
    "To achieve this, you will:\n",
    "\n",
    "1. Create an ARP response packet that contains the attacker's MAC address and the IP address of the target device.\n",
    "2. Send this ARP response packet to the target machines, effectively poisoning their ARP cache.\n",
    "\n",
    "By doing this, the target machines will believe that the attacker's MAC address is the legitimate owner of the IP_Target, allowing the attacker to intercept and manipulate the network traffic."
   ]
  },
  {
   "cell_type": "code",
   "execution_count": null,
   "metadata": {},
   "outputs": [],
   "source": [
    "\"\"\"\n",
    "Sends an ARP spoofing packet to the target IP address, making it believe that the spoof IP address is associated with the attacker's MAC address.\n",
    "Args:\n",
    "    targetIp (str): The IP address of the target machine to be spoofed.\n",
    "    spoofIp (str): The IP address that the target machine should believe is associated with the attacker's MAC address.\n",
    "Returns:\n",
    "    None\n",
    "Raises:\n",
    "    Exception: If there is an error in sending the ARP packet.\n",
    "Example:\n",
    "    spoof(\"192.168.1.5\", \"192.168.1.1\")\n",
    "\"\"\"\n",
    "def spoof(targetIp, spoofIp):\n",
    "\n",
    "    mac = getMacAddress(targetIp)\n",
    "    # Your code here\n",
    "    # Just an idea. Try using scapy to send ARP packets to the target IP address\n",
    "    hackedMachines.append([targetIp, mac])\n",
    "    \n",
    "    pass\n",
    "\n",
    "\n",
    "    "
   ]
  },
  {
   "cell_type": "markdown",
   "metadata": {},
   "source": [
    "### Step 3: Full Routing\n",
    "\n",
    "In this step, you will implement full routing to intercept and forward network traffic. This is the most challenging part of the lab. You will use the `scapy` library to sniff all network traffic and identify which traffic is destined for one of the target addresses in the `hackedMachines` list.\n",
    "\n",
    "To achieve this, you will:\n",
    "\n",
    "1. Use `scapy` to capture all network packets.\n",
    "2. Inspect each packet to determine if it is intended for one of the target addresses in the `hackedMachines` list.\n",
    "3. Forward the intercepted packets to the appropriate destination.\n",
    "\n",
    "By doing this, you will be able to fully intercept and manipulate the network traffic intended for the target devices.\n",
    "\n",
    "Here are the steps to follow:\n",
    "\n",
    "1. Initialize a packet sniffer.\n",
    "2. For each captured packet, check if the destination IP address matches any of the target addresses in the `hackedMachines` list.\n",
    "3. If a match is found, forward the packet to the intended destination.\n",
    "\n",
    "This will allow you to perform a man-in-the-middle attack,"
   ]
  },
  {
   "cell_type": "code",
   "execution_count": null,
   "metadata": {},
   "outputs": [],
   "source": [
    "\"\"\"\n",
    "Starts the packet sniffer to capture network packets.\n",
    "This function initiates the sniffing process\n",
    "It captures packets and processes them to forward packets to the intended destination if it's one of the hacked machines.\n",
    "Returns: None\n",
    "\"\"\"\n",
    "\n",
    "def startSniffer():\n",
    "    # Start sniffing packets\n",
    "    # Your code here\n",
    "    pass"
   ]
  },
  {
   "cell_type": "code",
   "execution_count": null,
   "metadata": {},
   "outputs": [],
   "source": [
    "def main():\n",
    "    target_ip = \"192.168.1.10\"  # Replace with the target IP address\n",
    "    spoof_ip = \"192.168.1.1\"    # Replace with the IP address to spoof\n",
    "\n",
    "    # Function to continuously call the spoof function\n",
    "    def continuousSpoof():\n",
    "        while True:\n",
    "            spoof(target_ip, spoof_ip)\n",
    "            time.sleep(2)  # Sleep for 2 seconds before sending the next spoof packet\n",
    "\n",
    "    # Start the spoofing thread\n",
    "    spoof_thread = threading.Thread(target=continuousSpoof)\n",
    "    spoof_thread.start()\n",
    "\n",
    "    # Start the packet sniffer thread\n",
    "    # This thread will run in the background and sniff packets. I do it like this in case students use a blocking solution\n",
    "    sniffer_thread = threading.Thread(target=startSniffer)\n",
    "    sniffer_thread.start()\n",
    "\n",
    "# Run the main function\n",
    "main()"
   ]
  }
 ],
 "metadata": {
  "kernelspec": {
   "display_name": "Python 3",
   "language": "python",
   "name": "python3"
  },
  "language_info": {
   "codemirror_mode": {
    "name": "ipython",
    "version": 3
   },
   "file_extension": ".py",
   "mimetype": "text/x-python",
   "name": "python",
   "nbconvert_exporter": "python",
   "pygments_lexer": "ipython3",
   "version": "3.12.8"
  }
 },
 "nbformat": 4,
 "nbformat_minor": 2
}
