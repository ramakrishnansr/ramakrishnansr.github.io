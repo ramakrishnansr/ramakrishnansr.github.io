{
 "cells": [
  {
   "cell_type": "markdown",
   "metadata": {},
   "source": [
    "# Introduction to ACK flooding attack\n",
    "\n",
    "## What is the ACK flooding Attack?\n",
    "\n",
    "The ACK flooding attack is a part of the optimistic ACK (OPT-ACK) attack we see in class. It is a denial-of-service (DoS) attack that leverages the ACK (Acknowledgement) flag in TCP packets to overwhelm a target system.\n",
    "\n",
    "In normal TCP communication, a three-way handshake establishes a connection:\n",
    "\n",
    "1.  **SYN (Synchronize):** The client sends a SYN packet to the server, initiating the connection.\n",
    "2.  **SYN-ACK (Synchronize-Acknowledge):** The server responds with a SYN-ACK packet, acknowledging the client's request and synchronizing its own sequence numbers.\n",
    "3.  **ACK (Acknowledge):** The client sends an ACK packet to the server, confirming the connection establishment.\n",
    "\n",
    "In the ACK flooding attack, the attacker sends numerous TCP packets with the ACK flag set. These ACK packets, often with (high) random or invalid sequence and acknowledgment numbers, are unexpected by the target. The target's TCP stack then wastes resources trying to process and respond to these spurious ACKs. This processing overhead can lead to performance degradation, resource exhaustion, and ultimately, denial of service. Note that ACK flooding attacks may be performed with or without a TCP 3-way handshake, we ask you to implement either one. \n",
    "\n",
    "Key characteristics of the ACK flooding attack:\n",
    "\n",
    "*   **Out-of-context ACKs:** The attack relies on sending ACK packets without a prior connection establishment or request for data.\n",
    "*   **Resource exhaustion:** The target's resources (CPU, memory) are consumed by processing the invalid ACK packets.\n",
    "\n",
    "## Lab Objective\n",
    "\n",
    "In this lab, we are going to implement a tool to perform ACK flooding DoS attacks. This will help you understand the mechanics of the attack and the potential security implications. You will learn how to:\n",
    "\n",
    "- Craft and send TCP packets using a packet crafting library (e.g., Scapy in Python).\n",
    "- Understand how new and complex DoS attacks work by implementing one.\n",
    "- Observe the impact of out-of-context TCP packets on a target system."
   ]
  },
  {
   "cell_type": "code",
   "execution_count": null,
   "metadata": {},
   "outputs": [],
   "source": [
    "from scapy.all import *\n",
    "from scapy.layers.inet import TCP, IP\n",
    "import random\n",
    "import time\n",
    "import threading\n",
    "import signal\n",
    "import sys\n",
    "\n",
    "# Define target IP and port\n",
    "target_ip = \"192.168.1.1\"\n",
    "target_port = 80\n",
    "\n",
    "# Define the source IP and port\n",
    "source_ip = \"192.168.1.2\"\n",
    "source_port = random.randint(1025, 65535)\n",
    "\n",
    "# Flag to control the attack loop\n",
    "attack_running = True"
   ]
  },
  {
   "cell_type": "markdown",
   "metadata": {},
   "source": [
    "Now it's your turn..."
   ]
  },
  {
   "cell_type": "code",
   "execution_count": null,
   "metadata": {},
   "outputs": [],
   "source": [
    "\"\"\"\n",
    "Sends ACK flooding packets to a target IP and port from a source IP and port in a loop.\n",
    "This function creates IP and TCP layers with high-end sequence and acknowledgment numbers,\n",
    "and sends the packets continuously until the global variable `attack_running` is set to False.\n",
    "Args:\n",
    "    target_ip (str): The target IP address to send packets to.\n",
    "    target_port (int): The target port to send packets to.\n",
    "    source_ip (str): The source IP address to send packets from.\n",
    "    source_port (int): The source port to send packets from.\n",
    "Raises:\n",
    "    Exception: If there is an error sending a packet, it will be printed to the console.\n",
    "\"\"\"\n",
    "def send_ack_flooding_attack(target_ip, target_port, source_ip, source_port):\n",
    "    # Your code here\n",
    "    # Remember to use the global variable attack_running to control the loop and to create the IP and TCP layers\n",
    "    pass\n",
    "\n",
    "\"\"\"\n",
    "Starts multiple threads to perform the optimized ACK attack.\n",
    "This function creates and starts a specified number of threads, each running the\n",
    "`send_ack_flooding_attack` function to send packets to the target IP and port.\n",
    "Optionally, you may also establish a TCP connection before doing the ACK flooding attack, which makes it more potent. \n",
    "Args:\n",
    "    threads_count (int): The number of threads to start for the attack.\n",
    "Raises:\n",
    "    Exception: If there is an error starting a thread, it will be printed to the console.\n",
    "\"\"\"\n",
    "def start_attack(threads_count):\n",
    "    threads = []\n",
    "    for i in range(threads_count):\n",
    "        t = threading.Thread(target=send_ack_flooding_attack, args=(target_ip, target_port, source_ip, source_port))\n",
    "        t.start()\n",
    "        threads.append(t)\n",
    "\n",
    "    for t in threads:\n",
    "        t.join()"
   ]
  },
  {
   "cell_type": "markdown",
   "metadata": {},
   "source": []
  },
  {
   "cell_type": "code",
   "execution_count": null,
   "metadata": {},
   "outputs": [],
   "source": [
    "# Signal handler for graceful shutdown\n",
    "def signal_handler(sig, frame):\n",
    "    global attack_running\n",
    "    print(\"Stopping attack...\")\n",
    "    attack_running = False\n",
    "    sys.exit(0)\n",
    "\n",
    "# Register signal handler\n",
    "signal.signal(signal.SIGINT, signal_handler)\n",
    "\n",
    "# Start the attack with 10 threads\n",
    "print(\"Starting attack with 10 threads...\")\n",
    "start_attack(10)"
   ]
  }
 ],
 "metadata": {
  "kernelspec": {
   "display_name": "Python 3",
   "language": "python",
   "name": "python3"
  },
  "language_info": {
   "codemirror_mode": {
    "name": "ipython",
    "version": 3
   },
   "file_extension": ".py",
   "mimetype": "text/x-python",
   "name": "python",
   "nbconvert_exporter": "python",
   "pygments_lexer": "ipython3",
   "version": "3.12.8"
  }
 },
 "nbformat": 4,
 "nbformat_minor": 2
}
